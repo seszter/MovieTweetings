{
 "cells": [
  {
   "cell_type": "markdown",
   "metadata": {},
   "source": [
    "### After finding similar movies based on the ratings, I'm going to do the same but based on the plots of the movies"
   ]
  },
  {
   "cell_type": "code",
   "execution_count": 1,
   "metadata": {
    "collapsed": true
   },
   "outputs": [],
   "source": [
    "import omdb\n",
    "import pandas as pd\n",
    "import numpy as np\n",
    "import scipy\n",
    "import re\n",
    "import pickle\n",
    "from sklearn.feature_extraction.text import TfidfVectorizer\n",
    "from sklearn.decomposition import TruncatedSVD\n",
    "from sklearn.metrics.pairwise import cosine_similarity"
   ]
  },
  {
   "cell_type": "code",
   "execution_count": 2,
   "metadata": {
    "collapsed": true
   },
   "outputs": [],
   "source": [
    "cols = ['movie_id', 'movie_title', 'movie_genre']\n",
    "movies = pd.read_csv('latest/movies.dat', sep='::',\n",
    "                    index_col=False, names=cols,\n",
    "                          encoding=\"UTF-8\", engine='python')"
   ]
  },
  {
   "cell_type": "markdown",
   "metadata": {},
   "source": [
    "#### For being able to compare the results, the same movies will be used as in Collaborative notebook "
   ]
  },
  {
   "cell_type": "code",
   "execution_count": 3,
   "metadata": {
    "collapsed": true
   },
   "outputs": [],
   "source": [
    "#Loading filtered dataframe \n",
    "pkl_file = open('double_filtered.pkl', 'rb')\n",
    "double_filtered = pickle.load(pkl_file)\n",
    "pkl_file.close()"
   ]
  },
  {
   "cell_type": "code",
   "execution_count": 4,
   "metadata": {
    "collapsed": true
   },
   "outputs": [],
   "source": [
    "#Using only the movies used for rating based similarity calculation\n",
    "filtered_movies = double_filtered.groupby('movie_id').count().reset_index()\n",
    "filtered_movies = filtered_movies[['movie_id']].merge(movies, on='movie_id', how='left')"
   ]
  },
  {
   "cell_type": "markdown",
   "metadata": {
    "collapsed": true
   },
   "source": [
    "#### Retrieving the full plots from imdb database"
   ]
  },
  {
   "cell_type": "code",
   "execution_count": null,
   "metadata": {
    "collapsed": false
   },
   "outputs": [],
   "source": [
    "# It turned out that when calling the API several time it tends to freeze.\n",
    "# For avoiding to do the whole porcess again, after every 100 calls the data is saved. \n",
    "for k in range(60):   \n",
    "    i = 0\n",
    "    for mid in filtered_movies['movie_id']:\n",
    "        if mid not in plot_dict:\n",
    "            try:\n",
    "                plot_dict[mid] = omdb.imdbid('tt'+'0'*(7-len(str(mid)))+str(mid),fullplot=True)['plot']\n",
    "            except:\n",
    "                plot_dict[mid] = 'N/A'\n",
    "            i += 1\n",
    "            if i == 100:\n",
    "                break\n",
    "    output = open('plot_dict_full.pkl', 'wb')\n",
    "    pickle.dump(plot_dict, output)\n",
    "    output.close()"
   ]
  },
  {
   "cell_type": "code",
   "execution_count": 6,
   "metadata": {
    "collapsed": false
   },
   "outputs": [
    {
     "data": {
      "text/plain": [
       "5770"
      ]
     },
     "execution_count": 6,
     "metadata": {},
     "output_type": "execute_result"
    }
   ],
   "source": [
    "# We have the right amount of movies\n",
    "len(plot_dict)"
   ]
  },
  {
   "cell_type": "code",
   "execution_count": 7,
   "metadata": {
    "collapsed": false
   },
   "outputs": [],
   "source": [
    "plot_df = pd.DataFrame(plot_dict.items(), columns=['movie_id','plot'])"
   ]
  },
  {
   "cell_type": "code",
   "execution_count": 8,
   "metadata": {
    "collapsed": false
   },
   "outputs": [
    {
     "data": {
      "text/html": [
       "<div>\n",
       "<table border=\"1\" class=\"dataframe\">\n",
       "  <thead>\n",
       "    <tr style=\"text-align: right;\">\n",
       "      <th></th>\n",
       "      <th>movie_id</th>\n",
       "      <th>plot</th>\n",
       "    </tr>\n",
       "  </thead>\n",
       "  <tbody>\n",
       "    <tr>\n",
       "      <th>2360</th>\n",
       "      <td>79417</td>\n",
       "      <td>N/A</td>\n",
       "    </tr>\n",
       "    <tr>\n",
       "      <th>2614</th>\n",
       "      <td>80801</td>\n",
       "      <td>N/A</td>\n",
       "    </tr>\n",
       "  </tbody>\n",
       "</table>\n",
       "</div>"
      ],
      "text/plain": [
       "      movie_id plot\n",
       "2360     79417  N/A\n",
       "2614     80801  N/A"
      ]
     },
     "execution_count": 8,
     "metadata": {},
     "output_type": "execute_result"
    }
   ],
   "source": [
    "# There are only 2 movies with no plot. That seems a tolerable loss\n",
    "plot_df[plot_df['plot']=='N/A']"
   ]
  },
  {
   "cell_type": "code",
   "execution_count": 9,
   "metadata": {
    "collapsed": true
   },
   "outputs": [],
   "source": [
    "# Drop these movies from the dataframe\n",
    "plot_df = plot_df[plot_df['plot']!='N/A']"
   ]
  },
  {
   "cell_type": "code",
   "execution_count": 10,
   "metadata": {
    "collapsed": false
   },
   "outputs": [
    {
     "data": {
      "text/plain": [
       "5768"
      ]
     },
     "execution_count": 10,
     "metadata": {},
     "output_type": "execute_result"
    }
   ],
   "source": [
    "len(plot_df)"
   ]
  },
  {
   "cell_type": "markdown",
   "metadata": {},
   "source": [
    "#### Making a vector for all plot, using 1 and 2 words long tokens and scale to this corpus of the plots using tf-idf method"
   ]
  },
  {
   "cell_type": "code",
   "execution_count": 11,
   "metadata": {
    "collapsed": true
   },
   "outputs": [],
   "source": [
    "tf = TfidfVectorizer(analyzer='word',\n",
    "                             ngram_range=(1, 2),\n",
    "                             min_df=0,\n",
    "                             stop_words='english')\n",
    "tfidf_matrix = tf.fit_transform(plot_df['plot'])"
   ]
  },
  {
   "cell_type": "code",
   "execution_count": 12,
   "metadata": {
    "collapsed": false
   },
   "outputs": [
    {
     "data": {
      "text/plain": [
       "(5768, 208378)"
      ]
     },
     "execution_count": 12,
     "metadata": {},
     "output_type": "execute_result"
    }
   ],
   "source": [
    "tfidf_matrix.shape"
   ]
  },
  {
   "cell_type": "markdown",
   "metadata": {},
   "source": [
    "#### Using the same SVD as during rating based analysis for dimensionality reduction"
   ]
  },
  {
   "cell_type": "code",
   "execution_count": 13,
   "metadata": {
    "collapsed": false
   },
   "outputs": [
    {
     "data": {
      "text/plain": [
       "0.17640226992159991"
      ]
     },
     "execution_count": 13,
     "metadata": {},
     "output_type": "execute_result"
    }
   ],
   "source": [
    "svd_500 = TruncatedSVD(n_components=500, algorithm='arpack')\n",
    "svd_500.fit(tfidf_matrix)\n",
    "svd_500.explained_variance_ratio_.sum()"
   ]
  },
  {
   "cell_type": "code",
   "execution_count": 14,
   "metadata": {
    "collapsed": true
   },
   "outputs": [],
   "source": [
    "decomposed_data = svd_500.transform(tfidf_matrix)"
   ]
  },
  {
   "cell_type": "markdown",
   "metadata": {},
   "source": [
    "#### Adding the titles to the plots for making the results interpretable"
   ]
  },
  {
   "cell_type": "code",
   "execution_count": 15,
   "metadata": {
    "collapsed": true
   },
   "outputs": [],
   "source": [
    "movies_with_plot = plot_df.merge(filtered_movies, on='movie_id', how='left')"
   ]
  },
  {
   "cell_type": "code",
   "execution_count": 16,
   "metadata": {
    "collapsed": true
   },
   "outputs": [],
   "source": [
    "class movie_lookup(object):\n",
    "    \"\"\"\n",
    "    This class calculates the cosine distance of one row from all other rows in a matrix.\n",
    "    \n",
    "    Args:\n",
    "    dataframe (dataframe): a dataframe with the column 'movie_title' containting the movie titles \n",
    "                           and indexed in the same order as the decomposed_data matrix\n",
    "    decomposed_data (array): a numpy array with rows for movies and columns for user ratings after dimensionality reduction\n",
    "    \"\"\"\n",
    "    def __init__(self, dataframe, decomposed_data):\n",
    "        self.dataframe = dataframe\n",
    "        self.decomposed_data = decomposed_data\n",
    "    \n",
    "    def most_similar_movies(self,title,howmany):\n",
    "        \"\"\"\n",
    "        This method connects the movie titles with the decomposed_data and finds X rows with the smallest cosine distance\n",
    "        from the given row.\n",
    "        \n",
    "        Args:\n",
    "        title (str): a title from the movie_title column of the dataframe\n",
    "        howmany (int): a number defining how many results should be returned\n",
    "        \n",
    "        Return:\n",
    "        A list of the most similar movie titles, and their 1-cosine distance from the given title\n",
    "        \"\"\"\n",
    "        if not title in self.dataframe['movie_title'].tolist():\n",
    "            raise ValueError('The given title is not among the movies')\n",
    "        movie_index = self.dataframe[self.dataframe.movie_title==title].index[0]\n",
    "        v = self.decomposed_data[movie_index,:].reshape(1, -1)\n",
    "        distances = scipy.spatial.distance.cdist(self.decomposed_data, v, 'cosine').reshape(-1)\n",
    "        most_similars = np.argsort(distances)[1:howmany+1]\n",
    "        \n",
    "        # making sure that not the original movie is returned even if there are other movies with the similarity of 1\n",
    "        if movies_with_plot.loc[most_similars[0]]['movie_title'] != title:\n",
    "            return [(movies_with_plot.loc[x]['movie_title'], 1-round(distances[x],3)) for x in most_similars]\n",
    "        else:\n",
    "            most_similars = np.argsort(distances)[0:howmany]\n",
    "            return [(movies_with_plot.loc[x]['movie_title'], 1-round(distances[x],3)) for x in most_similars if movies_with_plot.loc[x]['movie_title'] != title]\n"
   ]
  },
  {
   "cell_type": "code",
   "execution_count": 17,
   "metadata": {
    "collapsed": false
   },
   "outputs": [],
   "source": [
    "m = movie_lookup(movies_with_plot, decomposed_data)\n",
    "highests = []\n",
    "\n",
    "for title in movies_with_plot['movie_title']:\n",
    "    most_similar = m.most_similar_movies(title,1)\n",
    "    highests.append((most_similar[0][1],title, most_similar[0][0]))"
   ]
  },
  {
   "cell_type": "code",
   "execution_count": 18,
   "metadata": {
    "collapsed": false
   },
   "outputs": [
    {
     "data": {
      "text/plain": [
       "[(0.864, 'King Arthur (2004)', 'Excalibur (1981)'),\n",
       " (0.867,\n",
       "  'Halloween 4: The Return of Michael Myers (1988)',\n",
       "  'Halloween: The Curse of Michael Myers (1995)'),\n",
       " (0.867,\n",
       "  'Halloween: The Curse of Michael Myers (1995)',\n",
       "  'Halloween 4: The Return of Michael Myers (1988)'),\n",
       " (0.869, 'Carrie (1976)', 'Carrie (2013)'),\n",
       " (0.869, 'Carrie (2013)', 'Carrie (1976)'),\n",
       " (0.885,\n",
       "  'Star Wars: Episode V - The Empire Strikes Back (1980)',\n",
       "  'Star Wars: Episode IV - A New Hope (1977)'),\n",
       " (0.92, 'True Grit (1969)', 'True Grit (2010)'),\n",
       " (0.92, 'True Grit (2010)', 'True Grit (1969)'),\n",
       " (0.929,\n",
       "  'Star Wars: Episode IV - A New Hope (1977)',\n",
       "  'Star Wars: Episode VI - Return of the Jedi (1983)'),\n",
       " (0.929,\n",
       "  'Star Wars: Episode VI - Return of the Jedi (1983)',\n",
       "  'Star Wars: Episode IV - A New Hope (1977)'),\n",
       " (0.962, \"L'ennemi public n\\xc2\\xb01 (2008)\", \"L'instinct de mort (2008)\"),\n",
       " (0.962, \"L'instinct de mort (2008)\", \"L'ennemi public n\\xc2\\xb01 (2008)\"),\n",
       " (0.979,\n",
       "  'The Disappearance of Eleanor Rigby: Her (2013)',\n",
       "  'The Disappearance of Eleanor Rigby: Them (2014)'),\n",
       " (0.979,\n",
       "  'The Disappearance of Eleanor Rigby: Them (2014)',\n",
       "  'The Disappearance of Eleanor Rigby: Her (2013)'),\n",
       " (0.999, 'King Kong (1933)', 'King Kong (2005)'),\n",
       " (0.999, 'King Kong (2005)', 'King Kong (1933)'),\n",
       " (1.0, 'Before I Disappear (2014)', 'Curfew (2012)'),\n",
       " (1.0, 'Curfew (2012)', 'Before I Disappear (2014)'),\n",
       " (1.0, 'The ABCs of Death (2012)', 'The ABCs of Death 2 (2014)'),\n",
       " (1.0, 'The ABCs of Death 2 (2014)', 'The ABCs of Death (2012)')]"
      ]
     },
     "execution_count": 18,
     "metadata": {},
     "output_type": "execute_result"
    }
   ],
   "source": [
    "sorted(highests)[-20:]"
   ]
  },
  {
   "cell_type": "markdown",
   "metadata": {},
   "source": [
    "### The most similar movies according to this measure are the ones based on the same story, so basically the remakes of old movies"
   ]
  },
  {
   "cell_type": "code",
   "execution_count": 21,
   "metadata": {
    "collapsed": false
   },
   "outputs": [
    {
     "data": {
      "text/plain": [
       "[(0.8089999999999999, 'Batman Forever (1995)', 'The Dark Knight (2008)'),\n",
       " (0.8089999999999999,\n",
       "  'Dragon: The Bruce Lee Story (1993)',\n",
       "  'The Karate Kid (1984)'),\n",
       " (0.8089999999999999,\n",
       "  'Pawn Sacrifice (2014)',\n",
       "  'Searching for Bobby Fischer (1993)'),\n",
       " (0.8089999999999999,\n",
       "  'Searching for Bobby Fischer (1993)',\n",
       "  'Pawn Sacrifice (2014)'),\n",
       " (0.8089999999999999, 'The Dark Knight (2008)', 'Batman Forever (1995)'),\n",
       " (0.8089999999999999,\n",
       "  'The Karate Kid (1984)',\n",
       "  'Dragon: The Bruce Lee Story (1993)'),\n",
       " (0.81, 'Before Midnight (2013)', 'Before Sunset (2004)'),\n",
       " (0.81, 'Before Sunset (2004)', 'Before Midnight (2013)'),\n",
       " (0.81, 'The Manchurian Candidate (1962)', 'The Manchurian Candidate (2004)'),\n",
       " (0.81, 'The Manchurian Candidate (2004)', 'The Manchurian Candidate (1962)'),\n",
       " (0.8160000000000001, 'Mascots (2016)', \"Surf's Up (2007)\"),\n",
       " (0.8160000000000001, \"Surf's Up (2007)\", 'Mascots (2016)'),\n",
       " (0.8180000000000001,\n",
       "  'Terminator 2: Judgment Day (1991)',\n",
       "  'Terminator Genisys (2015)'),\n",
       " (0.8180000000000001,\n",
       "  'Terminator Genisys (2015)',\n",
       "  'Terminator 2: Judgment Day (1991)'),\n",
       " (0.819, 'The World Is Not Enough (1999)', 'Licence to Kill (1989)'),\n",
       " (0.823, 'Shrek the Third (2007)', 'Shrek 2 (2004)'),\n",
       " (0.823,\n",
       "  'The Hunger Games: Catching Fire (2013)',\n",
       "  'The Hunger Games: Mockingjay - Part 1 (2014)'),\n",
       " (0.823,\n",
       "  'The Hunger Games: Mockingjay - Part 1 (2014)',\n",
       "  'The Hunger Games: Catching Fire (2013)'),\n",
       " (0.8240000000000001, 'American Pie (1999)', 'Date and Switch (2014)'),\n",
       " (0.8240000000000001, 'Date and Switch (2014)', 'American Pie (1999)')]"
      ]
     },
     "execution_count": 21,
     "metadata": {},
     "output_type": "execute_result"
    }
   ],
   "source": [
    "sorted(highests)[-60:-40]"
   ]
  },
  {
   "cell_type": "markdown",
   "metadata": {},
   "source": [
    "#### After the remakes the series appear here as well"
   ]
  },
  {
   "cell_type": "code",
   "execution_count": 22,
   "metadata": {
    "collapsed": true
   },
   "outputs": [],
   "source": [
    "#Saving dataframes for later usage in ohter notebook\n",
    "output = open('filtered_movies_content.pkl', 'wb')\n",
    "pickle.dump(movies_with_plot, output)\n",
    "output.close()\n",
    "\n",
    "output = open('content_decomposed_data.pkl', 'wb')\n",
    "pickle.dump(decomposed_data, output)\n",
    "output.close()"
   ]
  },
  {
   "cell_type": "code",
   "execution_count": 23,
   "metadata": {
    "collapsed": true
   },
   "outputs": [],
   "source": [
    "output = open('con_highests.pkl', 'wb')\n",
    "pickle.dump(highests, output)\n",
    "output.close()"
   ]
  },
  {
   "cell_type": "code",
   "execution_count": null,
   "metadata": {
    "collapsed": true
   },
   "outputs": [],
   "source": [
    "pkl_file = open('plot_dict_full.pkl', 'rb')\n",
    "plot_dict = pickle.load(pkl_file)\n",
    "pkl_file.close()"
   ]
  }
 ],
 "metadata": {
  "kernelspec": {
   "display_name": "Python 2",
   "language": "python",
   "name": "python2"
  },
  "language_info": {
   "codemirror_mode": {
    "name": "ipython",
    "version": 2
   },
   "file_extension": ".py",
   "mimetype": "text/x-python",
   "name": "python",
   "nbconvert_exporter": "python",
   "pygments_lexer": "ipython2",
   "version": "2.7.13"
  }
 },
 "nbformat": 4,
 "nbformat_minor": 2
}
