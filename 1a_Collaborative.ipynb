{
 "cells": [
  {
   "cell_type": "markdown",
   "metadata": {},
   "source": [
    "### In the following I'm going to look for similar movies using only the ratings coming from the tweets. \n",
    "#### (I'm aware that there are python libraries designed specifically for building recommendation engines. They would conduct more sophisticated computations and give better recommendations, but I didn't want to Import antigravity and fly) "
   ]
  },
  {
   "cell_type": "code",
   "execution_count": 418,
   "metadata": {
    "collapsed": false
   },
   "outputs": [
    {
     "data": {
      "text/html": [
       "<img src=\"https://image.slidesharecdn.com/programming-with-python-basic-130312114054-phpapp01/95/programming-with-python-basic-19-638.jpg?cb=1465001793\"/>"
      ],
      "text/plain": [
       "<IPython.core.display.Image object>"
      ]
     },
     "execution_count": 418,
     "metadata": {},
     "output_type": "execute_result"
    }
   ],
   "source": [
    "from IPython.display import Image\n",
    "from IPython.core.display import HTML \n",
    "Image(url= \"https://image.slidesharecdn.com/programming-with-python-basic-130312114054-phpapp01/95/programming-with-python-basic-19-638.jpg?cb=1465001793\")"
   ]
  },
  {
   "cell_type": "code",
   "execution_count": 1,
   "metadata": {
    "collapsed": true
   },
   "outputs": [],
   "source": [
    "from sklearn.decomposition import TruncatedSVD\n",
    "from sklearn.metrics.pairwise import cosine_similarity\n",
    "from scipy.sparse import coo_matrix\n",
    "import pandas as pd\n",
    "import scipy\n",
    "import numpy\n",
    "import pickle"
   ]
  },
  {
   "cell_type": "markdown",
   "metadata": {},
   "source": [
    "#### Preparing a matrix where every movie is a row, every user is a column and values are the ratings. Using sparse matrix to speed up computation"
   ]
  },
  {
   "cell_type": "code",
   "execution_count": 2,
   "metadata": {
    "collapsed": false
   },
   "outputs": [],
   "source": [
    "cols = ['user_id', 'movie_id', 'rating', 'timestamp']\n",
    "ratings = pd.read_csv('latest/ratings.dat', sep='::',\n",
    "                    index_col=False, names=cols,\n",
    "                          encoding=\"UTF-8\", engine='python')"
   ]
  },
  {
   "cell_type": "code",
   "execution_count": 3,
   "metadata": {
    "collapsed": true
   },
   "outputs": [],
   "source": [
    "ratings['user_id'] = ratings['user_id'].astype(\"category\")\n",
    "ratings['movie_id'] = ratings['movie_id'].astype(\"category\")"
   ]
  },
  {
   "cell_type": "code",
   "execution_count": 4,
   "metadata": {
    "collapsed": false
   },
   "outputs": [],
   "source": [
    "pivoted = coo_matrix((ratings['rating'].astype(float), \n",
    "                   (ratings['movie_id'].cat.codes, \n",
    "                    ratings['user_id'].cat.codes)))"
   ]
  },
  {
   "cell_type": "markdown",
   "metadata": {},
   "source": [
    "### For finding latent characteristics reflected in users ratings I'm goint to use SVD algorithm\n",
    "#### choosing params for svd algorithm to explaine most variance"
   ]
  },
  {
   "cell_type": "code",
   "execution_count": 59,
   "metadata": {
    "collapsed": false
   },
   "outputs": [
    {
     "data": {
      "text/plain": [
       "0.34029293092040525"
      ]
     },
     "execution_count": 59,
     "metadata": {},
     "output_type": "execute_result"
    }
   ],
   "source": [
    "svd = TruncatedSVD(n_components=100, algorithm='arpack')\n",
    "svd.fit(pivoted)\n",
    "svd.explained_variance_ratio_.sum()"
   ]
  },
  {
   "cell_type": "code",
   "execution_count": 21,
   "metadata": {
    "collapsed": false
   },
   "outputs": [
    {
     "data": {
      "text/plain": [
       "0.33804611167474657"
      ]
     },
     "execution_count": 21,
     "metadata": {},
     "output_type": "execute_result"
    }
   ],
   "source": [
    "svd_default = TruncatedSVD(n_components=100)\n",
    "svd_default.fit(pivoted)\n",
    "svd_default.explained_variance_ratio_.sum()"
   ]
  },
  {
   "cell_type": "code",
   "execution_count": 22,
   "metadata": {
    "collapsed": false
   },
   "outputs": [
    {
     "data": {
      "text/plain": [
       "0.63398036486040477"
      ]
     },
     "execution_count": 22,
     "metadata": {},
     "output_type": "execute_result"
    }
   ],
   "source": [
    "svd_500 = TruncatedSVD(n_components=500)\n",
    "svd_500.fit(pivoted)\n",
    "svd_500.explained_variance_ratio_.sum()"
   ]
  },
  {
   "cell_type": "markdown",
   "metadata": {},
   "source": [
    "#### try to give the answer for only movies rated by at least 10 users"
   ]
  },
  {
   "cell_type": "code",
   "execution_count": 6,
   "metadata": {
    "collapsed": false
   },
   "outputs": [],
   "source": [
    "movies_to_keep = ratings.groupby('movie_id').count()\n",
    "movies_to_keep = movies_to_keep[movies_to_keep.rating > 9].reset_index()[['movie_id']]"
   ]
  },
  {
   "cell_type": "code",
   "execution_count": 7,
   "metadata": {
    "collapsed": false
   },
   "outputs": [],
   "source": [
    "filtered_ratings = ratings.merge(movies_to_keep, on='movie_id', how='inner')"
   ]
  },
  {
   "cell_type": "code",
   "execution_count": 8,
   "metadata": {
    "collapsed": false
   },
   "outputs": [
    {
     "data": {
      "text/plain": [
       "(583130, 534140)"
      ]
     },
     "execution_count": 8,
     "metadata": {},
     "output_type": "execute_result"
    }
   ],
   "source": [
    "len(ratings), len(filtered_ratings)"
   ]
  },
  {
   "cell_type": "markdown",
   "metadata": {},
   "source": [
    "#### we didn't loose too much data with this limitations"
   ]
  },
  {
   "cell_type": "code",
   "execution_count": 9,
   "metadata": {
    "collapsed": false
   },
   "outputs": [],
   "source": [
    "filtered_ratings['user_id'] = filtered_ratings['user_id'].astype(\"category\")\n",
    "filtered_ratings['movie_id'] = filtered_ratings['movie_id'].astype(\"category\")\n",
    "\n",
    "filtered_pivoted = coo_matrix((filtered_ratings['rating'].astype(float), \n",
    "                   (filtered_ratings['movie_id'].cat.codes, \n",
    "                    filtered_ratings['user_id'].cat.codes)))"
   ]
  },
  {
   "cell_type": "code",
   "execution_count": 57,
   "metadata": {
    "collapsed": false
   },
   "outputs": [
    {
     "data": {
      "text/plain": [
       "0.35710184729416261"
      ]
     },
     "execution_count": 57,
     "metadata": {},
     "output_type": "execute_result"
    }
   ],
   "source": [
    "filtered_svd = TruncatedSVD(n_components=100, algorithm='arpack')\n",
    "filtered_svd.fit(filtered_pivoted)\n",
    "filtered_svd.explained_variance_ratio_.sum()"
   ]
  },
  {
   "cell_type": "markdown",
   "metadata": {},
   "source": [
    "#### it did not help that much. How about if we also filter for users rating at least 10 movies?"
   ]
  },
  {
   "cell_type": "code",
   "execution_count": 10,
   "metadata": {
    "collapsed": true
   },
   "outputs": [],
   "source": [
    "users_to_keep = ratings.groupby('user_id').count()\n",
    "users_to_keep = users_to_keep[users_to_keep.rating > 9].reset_index()[['user_id']]"
   ]
  },
  {
   "cell_type": "code",
   "execution_count": 11,
   "metadata": {
    "collapsed": true
   },
   "outputs": [],
   "source": [
    "double_filtered_ratings = filtered_ratings.merge(users_to_keep, on='user_id', how='inner')"
   ]
  },
  {
   "cell_type": "code",
   "execution_count": 63,
   "metadata": {
    "collapsed": false
   },
   "outputs": [
    {
     "data": {
      "text/plain": [
       "(583130, 534140, 454543)"
      ]
     },
     "execution_count": 63,
     "metadata": {},
     "output_type": "execute_result"
    }
   ],
   "source": [
    "len(ratings), len(filtered_ratings), len(double_filtered_ratings)"
   ]
  },
  {
   "cell_type": "code",
   "execution_count": 13,
   "metadata": {
    "collapsed": true
   },
   "outputs": [],
   "source": [
    "double_filtered_ratings['user_id'] = double_filtered_ratings['user_id'].astype(\"category\")\n",
    "double_filtered_ratings['movie_id'] = double_filtered_ratings['movie_id'].astype(\"category\")\n",
    "\n",
    "double_filtered_pivoted = coo_matrix((double_filtered_ratings['rating'].astype(float), \n",
    "                   (double_filtered_ratings['movie_id'].cat.codes, \n",
    "                    double_filtered_ratings['user_id'].cat.codes)))"
   ]
  },
  {
   "cell_type": "code",
   "execution_count": 65,
   "metadata": {
    "collapsed": false
   },
   "outputs": [
    {
     "data": {
      "text/plain": [
       "0.36497076339588913"
      ]
     },
     "execution_count": 65,
     "metadata": {},
     "output_type": "execute_result"
    }
   ],
   "source": [
    "double_filtered_svd = TruncatedSVD(n_components=100, algorithm='arpack')\n",
    "double_filtered_svd.fit(double_filtered_pivoted)\n",
    "double_filtered_svd.explained_variance_ratio_.sum()"
   ]
  },
  {
   "cell_type": "code",
   "execution_count": 14,
   "metadata": {
    "collapsed": false
   },
   "outputs": [
    {
     "data": {
      "text/plain": [
       "0.68026765749971452"
      ]
     },
     "execution_count": 14,
     "metadata": {},
     "output_type": "execute_result"
    }
   ],
   "source": [
    "double_filtered_svd_500 = TruncatedSVD(n_components=500, algorithm='arpack')\n",
    "double_filtered_svd_500.fit(double_filtered_pivoted)\n",
    "double_filtered_svd_500.explained_variance_ratio_.sum()"
   ]
  },
  {
   "cell_type": "markdown",
   "metadata": {},
   "source": [
    "#### it also didn't help that much, but let's continue with this "
   ]
  },
  {
   "cell_type": "code",
   "execution_count": 15,
   "metadata": {
    "collapsed": true
   },
   "outputs": [],
   "source": [
    "decomposed_data = double_filtered_svd_500.transform(double_filtered_pivoted)"
   ]
  },
  {
   "cell_type": "code",
   "execution_count": 74,
   "metadata": {
    "collapsed": false
   },
   "outputs": [
    {
     "data": {
      "text/plain": [
       "(5770L, 500L)"
      ]
     },
     "execution_count": 74,
     "metadata": {},
     "output_type": "execute_result"
    }
   ],
   "source": [
    "decomposed_data.shape"
   ]
  },
  {
   "cell_type": "markdown",
   "metadata": {},
   "source": [
    "### And let's find similar movies!\n",
    "#### To be able to interpret the results, I join the names of the movies to the id-s"
   ]
  },
  {
   "cell_type": "code",
   "execution_count": 16,
   "metadata": {
    "collapsed": false
   },
   "outputs": [],
   "source": [
    "movies = double_filtered_ratings[['movie_id']].drop_duplicates().sort_values('movie_id')\n",
    "movies.index = range(0,len(movies))"
   ]
  },
  {
   "cell_type": "code",
   "execution_count": 17,
   "metadata": {
    "collapsed": true
   },
   "outputs": [],
   "source": [
    "cols = ['movie_id', 'movie_title', 'movie_genre']\n",
    "all_movies = pd.read_csv('latest/movies.dat', sep='::',\n",
    "                    index_col=False, names=cols,\n",
    "                          encoding=\"UTF-8\", engine='python')"
   ]
  },
  {
   "cell_type": "code",
   "execution_count": 18,
   "metadata": {
    "collapsed": false
   },
   "outputs": [],
   "source": [
    "filtered_movies = all_movies.merge(movies, on='movie_id', how='inner')"
   ]
  },
  {
   "cell_type": "markdown",
   "metadata": {},
   "source": [
    "#### Let's create a class for calculating cosine distance between the vectors representing the movies. It gives back the X most similar movies"
   ]
  },
  {
   "cell_type": "code",
   "execution_count": 382,
   "metadata": {
    "collapsed": true
   },
   "outputs": [],
   "source": [
    "class movie_lookup(object):\n",
    "    \"\"\"\n",
    "    This class calculates the cosine distance of one row from all other rows in a matrix.\n",
    "    \n",
    "    Args:\n",
    "    dataframe (dataframe): a dataframe with the column 'movie_title' containting the movie titles \n",
    "                           and indexed in the same order as the decomposed_data matrix\n",
    "    decomposed_data (array): a numpy array with rows for movies and columns for user ratings after dimensionality reduction\n",
    "    \"\"\"\n",
    "    def __init__(self, dataframe, decomposed_data):\n",
    "        self.dataframe = dataframe\n",
    "        self.decomposed_data = decomposed_data\n",
    "    \n",
    "    def most_similar_movies(self,title,howmany):\n",
    "        \"\"\"\n",
    "        This method connects the movie titles with the decomposed_data and finds X rows with the smallest cosine distance\n",
    "        from the given row.\n",
    "        \n",
    "        Args:\n",
    "        title (str): a title from the movie_title column of the dataframe\n",
    "        howmany (int): a number defining how many results should be returned\n",
    "        \n",
    "        Return:\n",
    "        A list of the most similar movie titles, and their 1-cosine distance from the given title\n",
    "        \"\"\"\n",
    "        if not title in self.dataframe['movie_title'].tolist():\n",
    "            raise ValueError('The given title is not among the movies')\n",
    "        movie_index = self.dataframe[self.dataframe.movie_title==title].index[0]\n",
    "        v = self.decomposed_data[movie_index,:].reshape(1, -1)\n",
    "        distances = scipy.spatial.distance.cdist(self.decomposed_data, v, 'cosine').reshape(-1)\n",
    "        most_similars = numpy.argsort(distances)[1:howmany+1]\n",
    "        return  [(self.dataframe.loc[x]['movie_title'], 1-round(distances[x],3)) for x in most_similars]\n"
   ]
  },
  {
   "cell_type": "markdown",
   "metadata": {},
   "source": [
    "#### Collecting the most similar movie for all movies and their similarity "
   ]
  },
  {
   "cell_type": "code",
   "execution_count": null,
   "metadata": {
    "collapsed": false
   },
   "outputs": [],
   "source": [
    "m = movie_lookup(filtered_movies, decomposed_data)\n",
    "highests = []\n",
    "\n",
    "for title in filtered_movies['movie_title']:\n",
    "    most_similar = m.most_similar_movies(title,1)\n",
    "    highests.append((most_similar[0][1],title, most_similar[0][0]))"
   ]
  },
  {
   "cell_type": "code",
   "execution_count": 421,
   "metadata": {
    "collapsed": false
   },
   "outputs": [
    {
     "data": {
      "text/plain": [
       "[(0.945,\n",
       "  'The Disappearance of Eleanor Rigby: Her (2013)',\n",
       "  'The Disappearance of Eleanor Rigby: Him (2013)'),\n",
       " (0.945,\n",
       "  'The Disappearance of Eleanor Rigby: Him (2013)',\n",
       "  'The Disappearance of Eleanor Rigby: Her (2013)'),\n",
       " (0.949, 'Nymphomaniac (2013)', 'Nymphomaniac: Volume II (2013)'),\n",
       " (0.949, 'Nymphomaniac: Volume II (2013)', 'Nymphomaniac (2013)'),\n",
       " (0.949,\n",
       "  'The Lord of the Rings: The Return of the King (2003)',\n",
       "  'The Lord of the Rings: The Two Towers (2002)'),\n",
       " (0.949,\n",
       "  'The Lord of the Rings: The Two Towers (2002)',\n",
       "  'The Lord of the Rings: The Return of the King (2003)'),\n",
       " (0.954,\n",
       "  'Harry Potter and the Goblet of Fire (2005)',\n",
       "  'Harry Potter and the Prisoner of Azkaban (2004)'),\n",
       " (0.954,\n",
       "  'Harry Potter and the Prisoner of Azkaban (2004)',\n",
       "  'Harry Potter and the Goblet of Fire (2005)'),\n",
       " (0.96,\n",
       "  'Harry Potter and the Chamber of Secrets (2002)',\n",
       "  \"Harry Potter and the Sorcerer's Stone (2001)\"),\n",
       " (0.96,\n",
       "  \"Harry Potter and the Sorcerer's Stone (2001)\",\n",
       "  'Harry Potter and the Chamber of Secrets (2002)')]"
      ]
     },
     "execution_count": 421,
     "metadata": {},
     "output_type": "execute_result"
    }
   ],
   "source": [
    "sorted(highests)[-10:]"
   ]
  },
  {
   "cell_type": "code",
   "execution_count": 423,
   "metadata": {
    "collapsed": false
   },
   "outputs": [
    {
     "data": {
      "text/plain": [
       "[(0.21199999999999997,\n",
       "  'Peaceful Warrior (2006)',\n",
       "  'Escape from Planet Earth (2013)'),\n",
       " (0.21299999999999997,\n",
       "  'Birlesen Gonuller (2014)',\n",
       "  'Waiting for Forever (2010)'),\n",
       " (0.21399999999999997, 'Rise of the Footsoldier (2007)', 'Flight (2012)'),\n",
       " (0.22099999999999997, 'Life of Pi (2012)', 'Silver Linings Playbook (2012)'),\n",
       " (0.22299999999999998, 'Kod Adi K.O.Z. (2015)', 'Birdman (2014)'),\n",
       " (0.22699999999999998, 'Drive (2011)', 'Pusher (1996)'),\n",
       " (0.22999999999999998, 'Nights in Rodanthe (2008)', 'The Last Song (2010)'),\n",
       " (0.235, 'Zero Dark Thirty (2012)', 'Premium Rush (2012)'),\n",
       " (0.237, 'Pearl Jam Twenty (2011)', 'Les Mis\\xc3\\xa9rables (2012)'),\n",
       " (0.238, 'Flight (2012)', 'Trouble with the Curve (2012)'),\n",
       " (0.24, 'Lincoln (2012)', 'The New World (2005)'),\n",
       " (0.242, '127 Hours (2010)', 'Grown Ups (2010)'),\n",
       " (0.242, 'Transit (2012)', 'Dilwale (2015)'),\n",
       " (0.245, 'Searching for Bobby Fischer (1993)', \"Fool's Gold (2008)\"),\n",
       " (0.245, 'The Good Girl (2002)', 'Into the Woods (2014)'),\n",
       " (0.246, 'Argo (2012)', 'Django Unchained (2012)'),\n",
       " (0.246, 'Django Unchained (2012)', 'Argo (2012)'),\n",
       " (0.246, 'The Prestige (2006)', 'The Departed (2006)'),\n",
       " (0.248, 'Sound of Noise (2010)', 'Adams \\xc3\\xa6bler (2005)'),\n",
       " (0.249, 'Memento (2000)', 'Fight Club (1999)')]"
      ]
     },
     "execution_count": 423,
     "metadata": {},
     "output_type": "execute_result"
    }
   ],
   "source": [
    "sorted(highests)[:20]"
   ]
  },
  {
   "cell_type": "markdown",
   "metadata": {},
   "source": [
    "### Looks like that the liking of movies from the same series are very similar to each other. But movies with unique athmosphere, like the Life of Pi, Memento or Django are not that similar to any other movies. "
   ]
  },
  {
   "cell_type": "code",
   "execution_count": 408,
   "metadata": {
    "collapsed": false
   },
   "outputs": [
    {
     "data": {
      "text/plain": [
       "[(0.876, 'Badlapur (2015)', 'Tanu Weds Manu Returns (2015)'),\n",
       " (0.876, 'The Bourne Ultimatum (2007)', 'The Bourne Supremacy (2004)'),\n",
       " (0.877, 'Udta Punjab (2016)', 'Shuddh Desi Romance (2013)'),\n",
       " (0.877, 'Wazir (2016)', 'Kapoor and Sons (2016)'),\n",
       " (0.88,\n",
       "  'Ice Age: Dawn of the Dinosaurs (2009)',\n",
       "  'Ice Age: The Meltdown (2006)'),\n",
       " (0.88,\n",
       "  'Ice Age: The Meltdown (2006)',\n",
       "  'Ice Age: Dawn of the Dinosaurs (2009)'),\n",
       " (0.881, 'Tanu Weds Manu Returns (2015)', 'Dum Laga Ke Haisha (2015)'),\n",
       " (0.883,\n",
       "  \"A Nightmare on Elm Street Part 2: Freddy's Revenge (1985)\",\n",
       "  'A Nightmare on Elm Street 3: Dream Warriors (1987)'),\n",
       " (0.884,\n",
       "  \"Freddy's Dead: The Final Nightmare (1991)\",\n",
       "  'A Nightmare on Elm Street 4: The Dream Master (1988)'),\n",
       " (0.884,\n",
       "  'Friday the 13th Part VIII: Jason Takes Manhattan (1989)',\n",
       "  'Friday the 13th: A New Beginning (1985)')]"
      ]
     },
     "execution_count": 408,
     "metadata": {},
     "output_type": "execute_result"
    }
   ],
   "source": [
    "sorted(highests)[-70:-60]"
   ]
  },
  {
   "cell_type": "code",
   "execution_count": 417,
   "metadata": {
    "collapsed": false
   },
   "outputs": [
    {
     "data": {
      "text/plain": [
       "[(0.84,\n",
       "  'Halloween 4: The Return of Michael Myers (1988)',\n",
       "  'Halloween 5 (1989)'),\n",
       " (0.84,\n",
       "  'Halloween 5 (1989)',\n",
       "  'Halloween 4: The Return of Michael Myers (1988)'),\n",
       " (0.841,\n",
       "  'Boruto: Naruto the Movie (2015)',\n",
       "  'The Last: Naruto the Movie (2014)'),\n",
       " (0.841, 'The Hangover (2009)', 'The Hangover Part II (2011)'),\n",
       " (0.841, 'The Hangover Part II (2011)', 'The Hangover (2009)'),\n",
       " (0.841,\n",
       "  'The Last: Naruto the Movie (2014)',\n",
       "  'Boruto: Naruto the Movie (2015)'),\n",
       " (0.841, 'War Room (2015)', 'Woodlawn (2015)'),\n",
       " (0.841, 'Woodlawn (2015)', 'War Room (2015)'),\n",
       " (0.842, 'Ae Dil Hai Mushkil (2016)', 'Kapoor and Sons (2016)'),\n",
       " (0.843, 'Spider-Man 3 (2007)', 'Spider-Man 2 (2004)')]"
      ]
     },
     "execution_count": 417,
     "metadata": {},
     "output_type": "execute_result"
    }
   ],
   "source": [
    "sorted(highests)[-130:-120]"
   ]
  },
  {
   "cell_type": "markdown",
   "metadata": {},
   "source": [
    "### In fact for finding the first movie pairs not coming from the same series we have to skip the first 67 most similar movies. And the first non-series and non-bollywood movie pairs don't come up until going through the first 120 results"
   ]
  },
  {
   "cell_type": "code",
   "execution_count": 19,
   "metadata": {
    "collapsed": true
   },
   "outputs": [],
   "source": [
    "#Saving dataframes for later usage in ohter notebook\n",
    "output = open('filtered_movies.pkl', 'wb')\n",
    "pickle.dump(filtered_movies, output)\n",
    "output.close()\n",
    "\n",
    "output = open('collaborative_decomposed_data.pkl', 'wb')\n",
    "pickle.dump(decomposed_data, output)\n",
    "output.close()"
   ]
  },
  {
   "cell_type": "code",
   "execution_count": null,
   "metadata": {
    "collapsed": true
   },
   "outputs": [],
   "source": []
  }
 ],
 "metadata": {
  "kernelspec": {
   "display_name": "Python 2",
   "language": "python",
   "name": "python2"
  },
  "language_info": {
   "codemirror_mode": {
    "name": "ipython",
    "version": 2
   },
   "file_extension": ".py",
   "mimetype": "text/x-python",
   "name": "python",
   "nbconvert_exporter": "python",
   "pygments_lexer": "ipython2",
   "version": "2.7.13"
  }
 },
 "nbformat": 4,
 "nbformat_minor": 2
}
