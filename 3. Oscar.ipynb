{
 "cells": [
  {
   "cell_type": "markdown",
   "metadata": {},
   "source": [
    "### As it is very current, I'm goint to investigate if winning the Oscar has an effect on the ratings. "
   ]
  },
  {
   "cell_type": "code",
   "execution_count": 76,
   "metadata": {
    "collapsed": true
   },
   "outputs": [],
   "source": [
    "import pandas as pd\n",
    "import re\n",
    "import numpy as np\n",
    "import matplotlib\n",
    "%matplotlib inline\n",
    "import seaborn as sns\n",
    "import matplotlib.pyplot as plt"
   ]
  },
  {
   "cell_type": "markdown",
   "metadata": {},
   "source": [
    "#### Loading the data"
   ]
  },
  {
   "cell_type": "code",
   "execution_count": 2,
   "metadata": {
    "collapsed": true
   },
   "outputs": [],
   "source": [
    "cols = ['user_id', 'movie_id', 'rating', 'timestamp']\n",
    "ratings = pd.read_csv('latest/ratings.dat', sep='::',\n",
    "                    index_col=False, names=cols,\n",
    "                          encoding=\"UTF-8\", engine='python')"
   ]
  },
  {
   "cell_type": "code",
   "execution_count": 5,
   "metadata": {
    "collapsed": false
   },
   "outputs": [],
   "source": [
    "cols = ['movie_id', 'movie_title', 'movie_genre']\n",
    "movies = pd.read_csv('latest/movies.dat', sep='::',\n",
    "                    index_col=False, names=cols,\n",
    "                          encoding=\"UTF-8\", engine='python')\n",
    "movies['title'] = movies['movie_title'].apply(lambda x: x.split('(')[0])\n",
    "movies['movie_year'] = movies['movie_title'].apply(lambda x: re.findall('\\((.*?)\\)',x)[0])\n"
   ]
  },
  {
   "cell_type": "code",
   "execution_count": 6,
   "metadata": {
    "collapsed": true
   },
   "outputs": [],
   "source": [
    "joined = ratings.merge(movies, on='movie_id', how='left')\n",
    "\n",
    "joined['date'] = pd.to_datetime(joined['timestamp'], unit='s')"
   ]
  },
  {
   "cell_type": "markdown",
   "metadata": {},
   "source": [
    "#### Oscar nominees, winners and the date of the gala for 2013,2014 and 2015"
   ]
  },
  {
   "cell_type": "code",
   "execution_count": 90,
   "metadata": {
    "collapsed": true
   },
   "outputs": [],
   "source": [
    "nominees = ['The Big Short (2015)', 'Bridge of Spies (2015)', 'Brooklyn (2015)', 'The Martian (2015)', 'The Revenant (2015)', 'Room (2015)',\n",
    "           'American Sniper (2014)', 'Boyhood (2014)', 'The Grand Budapest Hotel (2014)', 'The Imitation Game (2014)', 'Selma (2014)', 'The Theory of Everything (2014)', 'Whiplash (2014)',\n",
    "           'American Hustle (2013)', 'Captain Phillips (2013)', 'Dallas Buyers Club (2013)', 'Gravity (2013)', 'Her (2013)', 'Nebraska (2013)', 'Philomena (2013)', 'The Wolf of Wall Street (2013)']"
   ]
  },
  {
   "cell_type": "code",
   "execution_count": 91,
   "metadata": {
    "collapsed": true
   },
   "outputs": [],
   "source": [
    "winners = ['Spotlight (2015)', 'Birdman (2014)', '12 Years a Slave (2013)']"
   ]
  },
  {
   "cell_type": "code",
   "execution_count": 92,
   "metadata": {
    "collapsed": false
   },
   "outputs": [],
   "source": [
    "oscardates = {'2015':pd.datetime(2016,02,13),\n",
    "              '2014':pd.datetime(2015,02,07),\n",
    "              '2013':pd.datetime(2014,03,02)}"
   ]
  },
  {
   "cell_type": "code",
   "execution_count": 121,
   "metadata": {
    "collapsed": false
   },
   "outputs": [],
   "source": [
    "oscardates_df = pd.DataFrame(oscardates.items(), columns=['movie_year','oscardate'])"
   ]
  },
  {
   "cell_type": "markdown",
   "metadata": {},
   "source": [
    "#### For ratings about movies from 2013-2015 signaling if the movie was a nominee, a winner or none and if the rating was made before or after the Oscar gala of the given year"
   ]
  },
  {
   "cell_type": "code",
   "execution_count": 124,
   "metadata": {
    "collapsed": false
   },
   "outputs": [],
   "source": [
    "joined_oscar = joined.merge(oscardates_df, on='movie_year', how='left')"
   ]
  },
  {
   "cell_type": "code",
   "execution_count": 133,
   "metadata": {
    "collapsed": true
   },
   "outputs": [],
   "source": [
    "joined_oscar['dateFromOscar'] = np.where(joined_oscar['date']<joined_oscar['oscardate'], 'before',\n",
    "                                        np.where(joined_oscar['date']>joined_oscar['oscardate'], 'after', 'not_oscar_year'))"
   ]
  },
  {
   "cell_type": "code",
   "execution_count": 131,
   "metadata": {
    "collapsed": false
   },
   "outputs": [],
   "source": [
    "joined_oscar['oscar']=np.where(joined_oscar['movie_title'].isin(nominees), 'nominee', \n",
    "                         np.where(joined_oscar['movie_title'].isin(winners), 'winner', 'no_oscar'))"
   ]
  },
  {
   "cell_type": "code",
   "execution_count": 134,
   "metadata": {
    "collapsed": false
   },
   "outputs": [
    {
     "data": {
      "text/html": [
       "<div>\n",
       "<table border=\"1\" class=\"dataframe\">\n",
       "  <thead>\n",
       "    <tr>\n",
       "      <th></th>\n",
       "      <th></th>\n",
       "      <th colspan=\"2\" halign=\"left\">rating</th>\n",
       "    </tr>\n",
       "    <tr>\n",
       "      <th></th>\n",
       "      <th></th>\n",
       "      <th>RatingMean</th>\n",
       "      <th>RatingCount</th>\n",
       "    </tr>\n",
       "    <tr>\n",
       "      <th>oscar</th>\n",
       "      <th>dateFromOscar</th>\n",
       "      <th></th>\n",
       "      <th></th>\n",
       "    </tr>\n",
       "  </thead>\n",
       "  <tbody>\n",
       "    <tr>\n",
       "      <th rowspan=\"3\" valign=\"top\">no_oscar</th>\n",
       "      <th>after</th>\n",
       "      <td>6.948859</td>\n",
       "      <td>79037</td>\n",
       "    </tr>\n",
       "    <tr>\n",
       "      <th>before</th>\n",
       "      <td>7.105612</td>\n",
       "      <td>171231</td>\n",
       "    </tr>\n",
       "    <tr>\n",
       "      <th>not_oscar_year</th>\n",
       "      <td>7.423200</td>\n",
       "      <td>299622</td>\n",
       "    </tr>\n",
       "    <tr>\n",
       "      <th rowspan=\"2\" valign=\"top\">nominee</th>\n",
       "      <th>after</th>\n",
       "      <td>7.975432</td>\n",
       "      <td>11804</td>\n",
       "    </tr>\n",
       "    <tr>\n",
       "      <th>before</th>\n",
       "      <td>8.201367</td>\n",
       "      <td>17118</td>\n",
       "    </tr>\n",
       "    <tr>\n",
       "      <th rowspan=\"2\" valign=\"top\">winner</th>\n",
       "      <th>after</th>\n",
       "      <td>7.917287</td>\n",
       "      <td>2285</td>\n",
       "    </tr>\n",
       "    <tr>\n",
       "      <th>before</th>\n",
       "      <td>8.375799</td>\n",
       "      <td>2033</td>\n",
       "    </tr>\n",
       "  </tbody>\n",
       "</table>\n",
       "</div>"
      ],
      "text/plain": [
       "                            rating            \n",
       "                        RatingMean RatingCount\n",
       "oscar    dateFromOscar                        \n",
       "no_oscar after            6.948859       79037\n",
       "         before           7.105612      171231\n",
       "         not_oscar_year   7.423200      299622\n",
       "nominee  after            7.975432       11804\n",
       "         before           8.201367       17118\n",
       "winner   after            7.917287        2285\n",
       "         before           8.375799        2033"
      ]
     },
     "execution_count": 134,
     "metadata": {},
     "output_type": "execute_result"
    }
   ],
   "source": [
    "joined_oscar.groupby(['oscar', 'dateFromOscar']).agg({'rating':{'RatingCount':'count', 'RatingMean':'mean'}})"
   ]
  },
  {
   "cell_type": "markdown",
   "metadata": {},
   "source": [
    "#### Looks like after the gala all the movies are rated lower. Let's see if the confidence intervals are overlapping or not"
   ]
  },
  {
   "cell_type": "code",
   "execution_count": 181,
   "metadata": {
    "collapsed": true
   },
   "outputs": [],
   "source": [
    "# Collecting the means, and the confidence intervals\n",
    "mean = []\n",
    "lower = []\n",
    "upper = []\n",
    "for x in itertools.product(['winner', 'nominee', 'no_oscar'], ['before','after']):\n",
    "    a = joined_oscar[(joined_oscar['oscar']==x[0]) & (joined_oscar['dateFromOscar']==x[1])]['rating']\n",
    "    conf_interval = st.t.interval(0.95, len(a)-1, loc=np.mean(a), scale=st.sem(a))\n",
    "    mean.append(np.mean(a))\n",
    "    lower.append(np.mean(a) - conf_interval[0])\n",
    "    upper.append(conf_interval[1] - np.mean(a))"
   ]
  },
  {
   "cell_type": "code",
   "execution_count": 233,
   "metadata": {
    "collapsed": false
   },
   "outputs": [
    {
     "data": {
      "image/png": "[encoded data removed]",
      "text/plain": [
       "<matplotlib.figure.Figure at 0x33debe80>"
      ]
     },
     "metadata": {},
     "output_type": "display_data"
    }
   ],
   "source": [
    "# Making a plot \n",
    "sns.set_style(\"dark\")\n",
    "fig, ax = plt.subplots()\n",
    "ax.margins(0.05)\n",
    "ax.errorbar([1,4,7], [mean[index] for index in [0,2,4]],\n",
    "            yerr=[[lower[index] for index in [0,2,4]],[upper[index] for index in [0,2,4]]], fmt = 'o', label='before', color='forestgreen')\n",
    "ax.errorbar([2,5,8], [mean[index] for index in [1,3,5]],\n",
    "            yerr=[[lower[index] for index in [1,3,5]],[upper[index] for index in [1,3,5]]], fmt = 'o', label='after', color='lawngreen')\n",
    "\n",
    "ax.legend()\n",
    "labels = ['winner','nominee', 'others']\n",
    "plt.xticks([1.5,4.5,7.5], labels, fontsize=12)\n",
    "plt.legend(prop={'size':12})\n",
    "plt.ylabel('ratings', fontsize=12)\n",
    "plt.title('Mean and 95% confidence interval for ratings made before and after the oscar gala of the given year', fontsize=14)\n",
    "plt.show()"
   ]
  },
  {
   "cell_type": "markdown",
   "metadata": {},
   "source": [
    "#### Ratings are lower after the oscar gala than before for all movies. Probably those who were really interested in the movies have already watched and rated it, while later rating were coming from people who weren't that interested. As people usually interested in the types of movies they like, this can effect the ratings over time.\n",
    "#### But it's also shown that Oscar winner movies have been rated higher than nominees and other movies even before they won. The same is true for nominee movies against all the other movies. So it looks like that after all the judgement of the Academy and the common people are not that far from each others"
   ]
  },
  {
   "cell_type": "code",
   "execution_count": null,
   "metadata": {
    "collapsed": true
   },
   "outputs": [],
   "source": []
  }
 ],
 "metadata": {
  "kernelspec": {
   "display_name": "Python 2",
   "language": "python",
   "name": "python2"
  },
  "language_info": {
   "codemirror_mode": {
    "name": "ipython",
    "version": 2
   },
   "file_extension": ".py",
   "mimetype": "text/x-python",
   "name": "python",
   "nbconvert_exporter": "python",
   "pygments_lexer": "ipython2",
   "version": "2.7.13"
  }
 },
 "nbformat": 4,
 "nbformat_minor": 2
}
